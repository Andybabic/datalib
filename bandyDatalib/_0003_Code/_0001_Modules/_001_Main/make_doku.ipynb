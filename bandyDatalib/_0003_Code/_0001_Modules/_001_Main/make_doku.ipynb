{
 "cells": [
  {
   "cell_type": "code",
   "execution_count": 1,
   "id": "f2df9bb0",
   "metadata": {},
   "outputs": [
    {
     "name": "stdout",
     "output_type": "stream",
     "text": [
      "/home/projectdrive/nextcloud-fh/001_P_CounterSpeech/0001_P_CounterStrike/_0003_Code/_0001_Modules/_000_Main\n"
     ]
    }
   ],
   "source": [
    "import os\n",
    "\n",
    "\n",
    "def getparrentpath():\n",
    "    return os.getcwd()\n",
    "\n",
    "here= getparrentpath()\n",
    "\n",
    "doc= os.path.join(here,'doc')\n",
    "plus=\" \"\n",
    "\n",
    "\n",
    "\n",
    "\n",
    "command=\"pdoc3 --html  \"+ here+ \"  --output-dir  \" + doc \n",
    "remove =  'rm -rf '+ doc\n",
    "print(here)\n"
   ]
  },
  {
   "cell_type": "code",
   "execution_count": 2,
   "id": "10e92245",
   "metadata": {},
   "outputs": [
    {
     "data": {
      "text/plain": [
       "0"
      ]
     },
     "execution_count": 2,
     "metadata": {},
     "output_type": "execute_result"
    }
   ],
   "source": [
    "os.system(remove)\n"
   ]
  },
  {
   "cell_type": "code",
   "execution_count": 3,
   "id": "8ffca6d4",
   "metadata": {},
   "outputs": [
    {
     "name": "stderr",
     "output_type": "stream",
     "text": [
      "2022-02-25 08:42:02.896842: I tensorflow/stream_executor/platform/default/dso_loader.cc:48] Successfully opened dynamic library libcudart.so.10.1\n",
      "/home/ababic/.local/lib/python3.8/site-packages/tensorflow/python/data/ops/iterator_ops.py:546: DeprecationWarning: Using or importing the ABCs from 'collections' instead of from 'collections.abc' is deprecated since Python 3.3, and in 3.10 it will stop working\n",
      "  class IteratorBase(collections.Iterator, trackable.Trackable,\n",
      "/home/ababic/.local/lib/python3.8/site-packages/tensorflow/python/data/ops/dataset_ops.py:106: DeprecationWarning: Using or importing the ABCs from 'collections' instead of from 'collections.abc' is deprecated since Python 3.3, and in 3.10 it will stop working\n",
      "  class DatasetV2(collections.Iterable, tracking_base.Trackable,\n",
      "/home/ababic/.local/lib/python3.8/site-packages/tensorflow/python/autograph/utils/testing.py:21: DeprecationWarning: the imp module is deprecated in favour of importlib; see the module's documentation for alternative uses\n",
      "  import imp\n",
      "/home/ababic/.local/lib/python3.8/site-packages/pdoc/__init__.py:754: UserWarning: Couldn't read PEP-224 variable docstrings from <Module '_000_Main.master.submodul'>: could not get source code\n",
      "  m = Module(import_module(fullname),\n"
     ]
    },
    {
     "name": "stdout",
     "output_type": "stream",
     "text": [
      "/home/projectdrive/nextcloud-fh/001_P_CounterSpeech/0001_P_CounterStrike/_0003_Code/_0001_Modules/_000_Main/doc/_000_Main/index.html\n",
      "/home/projectdrive/nextcloud-fh/001_P_CounterSpeech/0001_P_CounterStrike/_0003_Code/_0001_Modules/_000_Main/doc/_000_Main/master/index.html\n",
      "/home/projectdrive/nextcloud-fh/001_P_CounterSpeech/0001_P_CounterStrike/_0003_Code/_0001_Modules/_000_Main/doc/_000_Main/master/submodul/index.html\n",
      "/home/projectdrive/nextcloud-fh/001_P_CounterSpeech/0001_P_CounterStrike/_0003_Code/_0001_Modules/_000_Main/doc/_000_Main/master/submodul/crawlerTwitter.html\n",
      "/home/projectdrive/nextcloud-fh/001_P_CounterSpeech/0001_P_CounterStrike/_0003_Code/_0001_Modules/_000_Main/doc/_000_Main/master/submodul/crawlerYoutube.html\n",
      "/home/projectdrive/nextcloud-fh/001_P_CounterSpeech/0001_P_CounterStrike/_0003_Code/_0001_Modules/_000_Main/doc/_000_Main/master/submodul/datasetManager.html\n",
      "/home/projectdrive/nextcloud-fh/001_P_CounterSpeech/0001_P_CounterStrike/_0003_Code/_0001_Modules/_000_Main/doc/_000_Main/master/submodul/datasplitter.html\n",
      "/home/projectdrive/nextcloud-fh/001_P_CounterSpeech/0001_P_CounterStrike/_0003_Code/_0001_Modules/_000_Main/doc/_000_Main/master/submodul/dictGenerator.html\n",
      "/home/projectdrive/nextcloud-fh/001_P_CounterSpeech/0001_P_CounterStrike/_0003_Code/_0001_Modules/_000_Main/doc/_000_Main/master/submodul/globalSettings.html\n",
      "/home/projectdrive/nextcloud-fh/001_P_CounterSpeech/0001_P_CounterStrike/_0003_Code/_0001_Modules/_000_Main/doc/_000_Main/master/submodul/logger.html\n",
      "/home/projectdrive/nextcloud-fh/001_P_CounterSpeech/0001_P_CounterStrike/_0003_Code/_0001_Modules/_000_Main/doc/_000_Main/master/submodul/process.html\n",
      "/home/projectdrive/nextcloud-fh/001_P_CounterSpeech/0001_P_CounterStrike/_0003_Code/_0001_Modules/_000_Main/doc/_000_Main/master/submodul/processManager.html\n",
      "/home/projectdrive/nextcloud-fh/001_P_CounterSpeech/0001_P_CounterStrike/_0003_Code/_0001_Modules/_000_Main/doc/_000_Main/master/submodul/runtime.html\n",
      "/home/projectdrive/nextcloud-fh/001_P_CounterSpeech/0001_P_CounterStrike/_0003_Code/_0001_Modules/_000_Main/doc/_000_Main/master/submodul/template.html\n"
     ]
    },
    {
     "data": {
      "text/plain": [
       "0"
      ]
     },
     "execution_count": 3,
     "metadata": {},
     "output_type": "execute_result"
    }
   ],
   "source": [
    "os.system(command)"
   ]
  },
  {
   "cell_type": "code",
   "execution_count": null,
   "id": "b5b67d05",
   "metadata": {},
   "outputs": [],
   "source": []
  }
 ],
 "metadata": {
  "kernelspec": {
   "display_name": "Python 3 (ipykernel)",
   "language": "python",
   "name": "python3"
  },
  "language_info": {
   "codemirror_mode": {
    "name": "ipython",
    "version": 3
   },
   "file_extension": ".py",
   "mimetype": "text/x-python",
   "name": "python",
   "nbconvert_exporter": "python",
   "pygments_lexer": "ipython3",
   "version": "3.8.10"
  }
 },
 "nbformat": 4,
 "nbformat_minor": 5
}

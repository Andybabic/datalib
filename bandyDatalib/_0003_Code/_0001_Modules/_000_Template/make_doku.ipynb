{
 "cells": [
  {
   "cell_type": "code",
   "execution_count": 1,
   "id": "f2df9bb0",
   "metadata": {},
   "outputs": [
    {
     "name": "stdout",
     "output_type": "stream",
     "text": [
      "/home/projectdrive/nextcloud/p_2021_counterspeech/0001_P_CounterStrike/_0003_Code/_0001_Modules/_000_Template\n"
     ]
    }
   ],
   "source": [
    "import os\n",
    "\n",
    "\n",
    "def getparrentpath():\n",
    "    return os.getcwd()\n",
    "\n",
    "here= getparrentpath()\n",
    "\n",
    "doc= os.path.join(here,'doc')\n",
    "plus=\" \"\n",
    "\n",
    "\n",
    "\n",
    "\n",
    "command=\"pdoc3 --html  \"+ here+ \"  --output-dir  \" + doc \n",
    "remove =  'rm -rf '+ doc\n",
    "print(here)\n"
   ]
  },
  {
   "cell_type": "code",
   "execution_count": 2,
   "id": "10e92245",
   "metadata": {},
   "outputs": [
    {
     "data": {
      "text/plain": [
       "0"
      ]
     },
     "execution_count": 2,
     "metadata": {},
     "output_type": "execute_result"
    }
   ],
   "source": [
    "os.system(remove)\n"
   ]
  },
  {
   "cell_type": "code",
   "execution_count": 3,
   "id": "8ffca6d4",
   "metadata": {},
   "outputs": [
    {
     "name": "stderr",
     "output_type": "stream",
     "text": [
      "/usr/lib/python3/dist-packages/apport/report.py:13: DeprecationWarning: the imp module is deprecated in favour of importlib; see the module's documentation for alternative uses\n",
      "  import fnmatch, glob, traceback, errno, sys, atexit, locale, imp, stat\n",
      "Traceback (most recent call last):\n",
      "  File \"/home/ababic/.local/lib/python3.8/site-packages/pdoc/__init__.py\", line 222, in import_module\n",
      "    module = importlib.import_module(module_path)\n",
      "  File \"/usr/lib/python3.8/importlib/__init__.py\", line 127, in import_module\n",
      "    return _bootstrap._gcd_import(name[level:], package, level)\n",
      "  File \"<frozen importlib._bootstrap>\", line 1014, in _gcd_import\n",
      "  File \"<frozen importlib._bootstrap>\", line 991, in _find_and_load\n",
      "  File \"<frozen importlib._bootstrap>\", line 975, in _find_and_load_unlocked\n",
      "  File \"<frozen importlib._bootstrap>\", line 671, in _load_unlocked\n",
      "  File \"<frozen importlib._bootstrap_external>\", line 844, in exec_module\n",
      "  File \"<frozen importlib._bootstrap_external>\", line 981, in get_code\n",
      "  File \"<frozen importlib._bootstrap_external>\", line 911, in source_to_code\n",
      "  File \"<frozen importlib._bootstrap>\", line 219, in _call_with_frames_removed\n",
      "  File \"/home/projectdrive/nextcloud/p_2021_counterspeech/0001_P_CounterStrike/_0003_Code/_0001_Modules/_000_Template/master/__init__.py\", line 33\n",
      "    def get_Submodul(self,)\n",
      "                          ^\n",
      "SyntaxError: invalid syntax\n",
      "\n",
      "During handling of the above exception, another exception occurred:\n",
      "\n",
      "Traceback (most recent call last):\n",
      "  File \"/home/ababic/.local/bin/pdoc3\", line 8, in <module>\n",
      "    sys.exit(main())\n",
      "  File \"/home/ababic/.local/lib/python3.8/site-packages/pdoc/cli.py\", line 534, in main\n",
      "    modules = [pdoc.Module(module, docfilter=docfilter,\n",
      "  File \"/home/ababic/.local/lib/python3.8/site-packages/pdoc/cli.py\", line 534, in <listcomp>\n",
      "    modules = [pdoc.Module(module, docfilter=docfilter,\n",
      "  File \"/home/ababic/.local/lib/python3.8/site-packages/pdoc/__init__.py\", line 754, in __init__\n",
      "    m = Module(import_module(fullname),\n",
      "  File \"/home/ababic/.local/lib/python3.8/site-packages/pdoc/__init__.py\", line 224, in import_module\n",
      "    raise ImportError(f'Error importing {module!r}: {e.__class__.__name__}: {e}')\n",
      "ImportError: Error importing '_000_Template.master': SyntaxError: invalid syntax (__init__.py, line 33)\n"
     ]
    },
    {
     "data": {
      "text/plain": [
       "256"
      ]
     },
     "execution_count": 3,
     "metadata": {},
     "output_type": "execute_result"
    }
   ],
   "source": [
    "os.system(command)"
   ]
  },
  {
   "cell_type": "code",
   "execution_count": null,
   "id": "b5b67d05",
   "metadata": {},
   "outputs": [],
   "source": []
  }
 ],
 "metadata": {
  "kernelspec": {
   "display_name": "Python 3 (ipykernel)",
   "language": "python",
   "name": "python3"
  },
  "language_info": {
   "codemirror_mode": {
    "name": "ipython",
    "version": 3
   },
   "file_extension": ".py",
   "mimetype": "text/x-python",
   "name": "python",
   "nbconvert_exporter": "python",
   "pygments_lexer": "ipython3",
   "version": "3.8.10"
  }
 },
 "nbformat": 4,
 "nbformat_minor": 5
}
